{
 "cells": [
  {
   "cell_type": "code",
   "execution_count": 1,
   "metadata": {},
   "outputs": [],
   "source": [
    "#Importing libraries\n",
    "import json, nltk\n",
    "import regex as re\n",
    "import pandas as pd\n",
    "import spacy\n",
    "import seaborn as sns\n",
    "import matplotlib.pyplot as plt\n",
    "#from spacy import displacy\n",
    "from pathlib import Path\n",
    "nlp = spacy.load('en_core_web_sm')\n",
    "import numpy as np\n",
    "import csv\n",
    "from collections import defaultdict"
   ]
  },
  {
   "cell_type": "code",
   "execution_count": null,
   "metadata": {
    "scrolled": true
   },
   "outputs": [],
   "source": [
    "#Saving cleaned learner / corrector sentence pairs into different files.\n",
    "#Original Language Learner Data can be found/reuqested at: https://sites.google.com/site/naistlang8corpora/\n",
    "#Cleaned sentence pairs were obtained using an extractor by Tomoya Mizumoto:\n",
    "#(https://github.com/tomo-wb/Lang8-NAIST-extractor)\n",
    "\n",
    "with open('thesis_data/082019_lang8_sp_eng_learner_cor_sents.txt', encoding = 'utf-8') as file:\n",
    "    with open('thesis_data/20191010_clean_l8_learner_sents.txt','w', encoding = 'utf-8') as output:\n",
    "        with open('thesis_data/20191010_clean_l8_cor_sents.txt', 'w', encoding = 'utf-8') as output_2:\n",
    "            for line in file:\n",
    "                line = line.strip('\\n')\n",
    "                line = line.split('\\t')\n",
    "                #some of the pairs did not separate by '\\t', separated such instances manually\n",
    "                #if len(line) == 1:\n",
    "                    #print(line)\n",
    "                output.write(str(line[0])+ '\\n')\n",
    "                output_2.write(str(line[1]+ '\\n'))"
   ]
  },
  {
   "cell_type": "code",
   "execution_count": null,
   "metadata": {},
   "outputs": [],
   "source": [
    "learner_sents = pd.read_csv('thesis_data/20191010_clean_l8_learner_sents.txt', error_bad_lines=False, \n",
    "                            names=[\"learner_sentences\"])\n",
    "corrector_sents = pd.read_csv('thesis_data/20191010_clean_l8_cor_sents.txt', error_bad_lines=False, \n",
    "                            names=[\"corrector_sentences\"])\n",
    "\n",
    "#disparity between shapes are due to the fact that not every correction recieved an edit\n",
    "print(\"learner shape: \", learner_sents.shape, \"correction shape: \", corrector_sents.shape)"
   ]
  },
  {
   "cell_type": "code",
   "execution_count": null,
   "metadata": {},
   "outputs": [],
   "source": [
    "#comb = pd.concat([learner_sents, corrector_sents], axis=0, ignore_index=True)"
   ]
  },
  {
   "cell_type": "code",
   "execution_count": null,
   "metadata": {},
   "outputs": [],
   "source": [
    "#splitting files by new line, the goal is to concatinate sentences with linguistic information provided by Spacy\n",
    "#As well as with Error annotation information provided by ERRANT(https://github.com/chrisjbryant/errant)\n",
    "with open(\"thesis_data/20191010_clean_l8_learner_sents.txt\", encoding = 'utf-8') as fd:\n",
    "    file = fd.read().splitlines()\n",
    "    \n",
    "with open(\"thesis_data/20191010_clean_l8_cor_sents.txt\", encoding = 'utf-8') as fd_2:\n",
    "    file_2 = fd_2.read().splitlines()\n",
    "\n",
    "#reading in ERRANT output file:\n",
    "with open(\"thesis_data/20191012_l8_sp_eng_m2\", encoding = 'utf-8') as fd_3:\n",
    "    file_3 = fd_3.read().splitlines()"
   ]
  },
  {
   "cell_type": "code",
   "execution_count": null,
   "metadata": {},
   "outputs": [],
   "source": [
    "#Using spaCy in order to make a list of items containing dependencies and Part of speech (POS)\n",
    "#information for each token in every learner/corrector pair\n",
    "dep_file = []\n",
    "dep_file_2 = []\n",
    "\n",
    "for line in file:\n",
    "    dep_sentence = nlp(line)\n",
    "    deps = []\n",
    "    for token in dep_sentence:\n",
    "        l_tok = token.text + '_' + token.pos_ + '_' + token.dep_\n",
    "        deps.append(l_tok)\n",
    "    dep_file.append(deps)\n",
    "    deps = []\n",
    "\n",
    "for line_2 in file_2:\n",
    "    dep_sentence_2 = nlp(line_2)\n",
    "    deps_2 = []\n",
    "    for token_2 in dep_sentence_2:\n",
    "        c_tok = token_2.text + '_' + token_2.pos_ + '_' + token_2.dep_\n",
    "        deps_2.append(c_tok)\n",
    "    dep_file_2.append(deps_2)\n",
    "    deps_2 = []"
   ]
  },
  {
   "cell_type": "code",
   "execution_count": null,
   "metadata": {},
   "outputs": [],
   "source": [
    "#Handles cases in which extracted learner/corrector sentence was empty\n",
    "for item in range(0, len(file)-1):\n",
    "    if file[item] == ' ':\n",
    "        file.pop(item)\n",
    "        file_2.pop(item)\n",
    "        dep_file.pop(item)\n",
    "        dep_file_2.pop(item)"
   ]
  },
  {
   "cell_type": "code",
   "execution_count": null,
   "metadata": {},
   "outputs": [],
   "source": [
    "#Appending learner sentence & error annotation to a list\n",
    "e_list = []\n",
    "currlist = []\n",
    "#counter = 0\n",
    "\n",
    "for line in open('thesis_data/20191012_l8_sp_eng_m2', encoding='utf-8'):\n",
    "    line = line.rstrip()\n",
    "    if line == '':\n",
    "        if currlist != []:\n",
    "            #print(currlist)\n",
    "            e_list.append(currlist)\n",
    "            #counter += 1\n",
    "        currlist = []\n",
    "        continue\n",
    "    currlist.append(line)"
   ]
  },
  {
   "cell_type": "code",
   "execution_count": null,
   "metadata": {},
   "outputs": [],
   "source": [
    "e_list[55]"
   ]
  },
  {
   "cell_type": "code",
   "execution_count": null,
   "metadata": {},
   "outputs": [],
   "source": [
    "#Creating Data object to store in JSON format\n",
    "#This object holds: original learner / corrector sentences, linguistic information for both, and error annotations\n",
    "#if any corrections were made\n",
    "m_l_object = [list(pair) for pair in zip(file, dep_file, file_2,dep_file_2,e_list)]\n",
    "data = m_l_object\n",
    "\n",
    "with open('20200129_l8_eng_sp_error_output.json', 'w', encoding='utf-8') as outfile:\n",
    "    json.dump(data, outfile)"
   ]
  },
  {
   "cell_type": "code",
   "execution_count": 2,
   "metadata": {},
   "outputs": [],
   "source": [
    "with open('20200129_l8_eng_sp_error_output.json') as json_file:\n",
    "    m_l_object = json.load(json_file)"
   ]
  },
  {
   "cell_type": "code",
   "execution_count": 3,
   "metadata": {},
   "outputs": [
    {
     "data": {
      "text/plain": [
       "['A soft whimper breaks the silence.',\n",
       " ['A_DET_det',\n",
       "  'soft_ADJ_amod',\n",
       "  'whimper_NOUN_nsubj',\n",
       "  'breaks_VERB_ROOT',\n",
       "  'the_DET_det',\n",
       "  'silence_NOUN_dobj',\n",
       "  '._PUNCT_punct'],\n",
       " 'A soft whimper breaks the silence.',\n",
       " ['A_DET_det',\n",
       "  'soft_ADJ_amod',\n",
       "  'whimper_NOUN_nsubj',\n",
       "  'breaks_VERB_ROOT',\n",
       "  'the_DET_det',\n",
       "  'silence_NOUN_dobj',\n",
       "  '._PUNCT_punct'],\n",
       " ['S A soft whimper breaks the silence.',\n",
       "  'A -1 -1|||noop|||-NONE-|||REQUIRED|||-NONE-|||0']]"
      ]
     },
     "execution_count": 3,
     "metadata": {},
     "output_type": "execute_result"
    }
   ],
   "source": [
    "#Instance of one object\n",
    "m_l_object[50]"
   ]
  },
  {
   "cell_type": "code",
   "execution_count": 4,
   "metadata": {},
   "outputs": [
    {
     "data": {
      "text/html": [
       "<div>\n",
       "<style scoped>\n",
       "    .dataframe tbody tr th:only-of-type {\n",
       "        vertical-align: middle;\n",
       "    }\n",
       "\n",
       "    .dataframe tbody tr th {\n",
       "        vertical-align: top;\n",
       "    }\n",
       "\n",
       "    .dataframe thead th {\n",
       "        text-align: right;\n",
       "    }\n",
       "</style>\n",
       "<table border=\"1\" class=\"dataframe\">\n",
       "  <thead>\n",
       "    <tr style=\"text-align: right;\">\n",
       "      <th></th>\n",
       "      <th>learner_sentence</th>\n",
       "      <th>learner_dependencies</th>\n",
       "      <th>corrections</th>\n",
       "      <th>corrector_dependencies</th>\n",
       "      <th>error_annotations</th>\n",
       "    </tr>\n",
       "  </thead>\n",
       "  <tbody>\n",
       "    <tr>\n",
       "      <th>0</th>\n",
       "      <td>he's still waiting for her to come back</td>\n",
       "      <td>[he_PRON_nsubj, 's_AUX_aux, still_ADV_advmod, ...</td>\n",
       "      <td>he's still waiting for her to come back</td>\n",
       "      <td>[he_PRON_nsubj, 's_AUX_aux, still_ADV_advmod, ...</td>\n",
       "      <td>[S he's still waiting for her to come back, A ...</td>\n",
       "    </tr>\n",
       "    <tr>\n",
       "      <th>1</th>\n",
       "      <td>He wasn't able to remember their first kiss.</td>\n",
       "      <td>[He_PRON_nsubj, was_AUX_ROOT, n't_PART_neg, ab...</td>\n",
       "      <td>He wasn't able to remember their first kiss.</td>\n",
       "      <td>[He_PRON_nsubj, was_AUX_ROOT, n't_PART_neg, ab...</td>\n",
       "      <td>[S He wasn't able to remember their first kiss...</td>\n",
       "    </tr>\n",
       "    <tr>\n",
       "      <th>2</th>\n",
       "      <td>She would have done.</td>\n",
       "      <td>[She_PRON_nsubj, would_AUX_aux, have_AUX_aux, ...</td>\n",
       "      <td>She would have done.</td>\n",
       "      <td>[She_PRON_nsubj, would_AUX_aux, have_AUX_aux, ...</td>\n",
       "      <td>[S She would have done., A -1 -1|||noop|||-NON...</td>\n",
       "    </tr>\n",
       "    <tr>\n",
       "      <th>3</th>\n",
       "      <td>He couldn't remember the first time they made ...</td>\n",
       "      <td>[He_PRON_nsubj, could_VERB_aux, n't_PART_neg, ...</td>\n",
       "      <td>He couldn't remember the first time they made ...</td>\n",
       "      <td>[He_PRON_nsubj, could_VERB_aux, n't_PART_neg, ...</td>\n",
       "      <td>[S He couldn't remember the first time they ma...</td>\n",
       "    </tr>\n",
       "    <tr>\n",
       "      <th>4</th>\n",
       "      <td>She would have done.</td>\n",
       "      <td>[She_PRON_nsubj, would_AUX_aux, have_AUX_aux, ...</td>\n",
       "      <td>She would have done.</td>\n",
       "      <td>[She_PRON_nsubj, would_AUX_aux, have_AUX_aux, ...</td>\n",
       "      <td>[S She would have done., A -1 -1|||noop|||-NON...</td>\n",
       "    </tr>\n",
       "  </tbody>\n",
       "</table>\n",
       "</div>"
      ],
      "text/plain": [
       "                                    learner_sentence  \\\n",
       "0            he's still waiting for her to come back   \n",
       "1       He wasn't able to remember their first kiss.   \n",
       "2                               She would have done.   \n",
       "3  He couldn't remember the first time they made ...   \n",
       "4                               She would have done.   \n",
       "\n",
       "                                learner_dependencies  \\\n",
       "0  [he_PRON_nsubj, 's_AUX_aux, still_ADV_advmod, ...   \n",
       "1  [He_PRON_nsubj, was_AUX_ROOT, n't_PART_neg, ab...   \n",
       "2  [She_PRON_nsubj, would_AUX_aux, have_AUX_aux, ...   \n",
       "3  [He_PRON_nsubj, could_VERB_aux, n't_PART_neg, ...   \n",
       "4  [She_PRON_nsubj, would_AUX_aux, have_AUX_aux, ...   \n",
       "\n",
       "                                         corrections  \\\n",
       "0            he's still waiting for her to come back   \n",
       "1       He wasn't able to remember their first kiss.   \n",
       "2                               She would have done.   \n",
       "3  He couldn't remember the first time they made ...   \n",
       "4                               She would have done.   \n",
       "\n",
       "                              corrector_dependencies  \\\n",
       "0  [he_PRON_nsubj, 's_AUX_aux, still_ADV_advmod, ...   \n",
       "1  [He_PRON_nsubj, was_AUX_ROOT, n't_PART_neg, ab...   \n",
       "2  [She_PRON_nsubj, would_AUX_aux, have_AUX_aux, ...   \n",
       "3  [He_PRON_nsubj, could_VERB_aux, n't_PART_neg, ...   \n",
       "4  [She_PRON_nsubj, would_AUX_aux, have_AUX_aux, ...   \n",
       "\n",
       "                                   error_annotations  \n",
       "0  [S he's still waiting for her to come back, A ...  \n",
       "1  [S He wasn't able to remember their first kiss...  \n",
       "2  [S She would have done., A -1 -1|||noop|||-NON...  \n",
       "3  [S He couldn't remember the first time they ma...  \n",
       "4  [S She would have done., A -1 -1|||noop|||-NON...  "
      ]
     },
     "execution_count": 4,
     "metadata": {},
     "output_type": "execute_result"
    }
   ],
   "source": [
    "pn_l8 = pd.DataFrame(m_l_object, columns=['learner_sentence', 'learner_dependencies', 'corrections', 'corrector_dependencies'\n",
    "                                      , 'error_annotations'])\n",
    "pn_l8.head()"
   ]
  },
  {
   "cell_type": "code",
   "execution_count": 5,
   "metadata": {},
   "outputs": [
    {
     "name": "stdout",
     "output_type": "stream",
     "text": [
      "Unique Learner Sentences:  25974\n",
      "Total number of sentences with annotations:  10850\n",
      "Total number of sentences w/o annotations:  15124\n",
      "Total number of annotations:  12883\n",
      "% of sentences annotated:  41.77254177254177\n",
      "Average number of annotations per sentence:  1.187373271889401\n"
     ]
    },
    {
     "data": {
      "text/plain": [
       "<matplotlib.axes._subplots.AxesSubplot at 0x23c0c0741c8>"
      ]
     },
     "execution_count": 5,
     "metadata": {},
     "output_type": "execute_result"
    },
    {
     "data": {
      "image/png": "[encoded data removed]",
      "text/plain": [
       "<Figure size 1152x576 with 1 Axes>"
      ]
     },
     "metadata": {
      "needs_background": "light"
     },
     "output_type": "display_data"
    }
   ],
   "source": [
    "#How many learner sentences have annotations?\n",
    "\n",
    "#initializing a dictionary of total number of learner sentences\n",
    "l_sents = defaultdict(int)\n",
    "#initializing a dictionary of annotated sentences\n",
    "annot_sents = defaultdict(int)\n",
    "#total_annotations\n",
    "total_annots = 0\n",
    "\n",
    "for i in range(0, len(m_l_object)):\n",
    "    s = m_l_object[i][0]\n",
    "    l_sents[s]+=1\n",
    "    #instances in entry was empty\n",
    "    if i == 6623 or i == 9415 or i == 24820:\n",
    "        continue\n",
    "    no_op_search = re.search(r'\\|\\|\\|(noop)\\|\\|\\|', m_l_object[i][4][1])\n",
    "    if not no_op_search:\n",
    "        annot_sents[s]+=1\n",
    "        total_annots += 1        \n",
    "\n",
    "    \n",
    "print(\"Unique Learner Sentences: \", len(l_sents.keys()))\n",
    "print(\"Total number of sentences with annotations: \", len(annot_sents.keys()))\n",
    "print('Total number of sentences w/o annotations: ', \n",
    "      len(l_sents.keys()) - len(annot_sents.keys()))\n",
    "print(\"Total number of annotations: \", total_annots)\n",
    "print(\"% of sentences annotated: \", len(annot_sents.keys())/len(l_sents.keys())*100)\n",
    "print(\"Average number of annotations per sentence: \", total_annots/len(annot_sents.keys()))\n",
    "\n",
    "l_c_dict = {\n",
    "            'Unique Learner Sentences': len(l_sents.keys()),\n",
    "            'Total Number of Sentences with annotations': len(annot_sents.keys()),\n",
    "            'Total Number of Sentences w/o annotations':  len(l_sents.keys()) - len(annot_sents.keys()),\n",
    "           }\n",
    "\n",
    "l_c_data = pd.Series(l_c_dict).to_frame('Counts')\n",
    "plt.figure(figsize=(16, 8))\n",
    "plt.title('Sentence Breakdown')\n",
    "sns.barplot(x=l_c_data.index, y=l_c_data['Counts'])"
   ]
  },
  {
   "cell_type": "code",
   "execution_count": 6,
   "metadata": {},
   "outputs": [
    {
     "name": "stdout",
     "output_type": "stream",
     "text": [
      "M:PRON she 15\n",
      "M:PRON i 88\n",
      "M:PRON it 293\n",
      "M:PRON they 27\n",
      "M:PRON he 16\n",
      "M:PRON we 11\n",
      "M:PRON me 18\n",
      "M:PRON him 2\n",
      "M:PRON them 18\n",
      "M:PRON us 3\n",
      "M:PRON total:  491\n",
      "R:PRON it 109\n",
      "R:PRON i 115\n",
      "R:PRON we 10\n",
      "R:PRON me 13\n",
      "R:PRON they 46\n",
      "R:PRON he 12\n",
      "R:PRON her 12\n",
      "R:PRON them 29\n",
      "R:PRON she 10\n",
      "R:PRON us 2\n",
      "R:PRON total:  358\n",
      "U:PRON it 1\n",
      "U:PRON i 1\n",
      "U:PRON total:  2\n"
     ]
    }
   ],
   "source": [
    "#Target pronoun list that will be stored and tracked for in a dictionary\n",
    "pronouns = '(I|me|we|us|he|him|she|her|it|they|them)'\n",
    "pro_types = '(M:PRON|R:PRON|U:PRON)'\n",
    "pronoun_type_counter = defaultdict(lambda: defaultdict(int))\n",
    "#pronoun_counter = defaultdict(int)\n",
    "\n",
    "for item in m_l_object:\n",
    "    #learner sentence\n",
    "    l_t = str(item[0])\n",
    "    #learner sentence dependencies\n",
    "    l_d = item[1]\n",
    "    #corrector sentence\n",
    "    c_t = str(item[2])\n",
    "    #corrector sentence dependencies\n",
    "    c_d = item[3]\n",
    "    \n",
    "    for e in item[4]:\n",
    "        pro_target = re.search(r'\\|\\|\\|' + pro_types + r'\\|\\|\\|' \n",
    "                               + r'.*\\b(?i)' + pronouns + r'\\b.*\\|\\|\\|', e)\n",
    "        if pro_target:\n",
    "            anno_type = pro_target.group(1)\n",
    "            current_pronoun = pro_target.group(2).lower()\n",
    "            pronoun_type_counter[anno_type][current_pronoun] += 1\n",
    "            \n",
    "\n",
    "for a in pronoun_type_counter.keys():\n",
    "    total = 0\n",
    "    for p in pronoun_type_counter[a].keys():\n",
    "        total += pronoun_type_counter[a][p]\n",
    "        print(a,p,pronoun_type_counter[a][p])\n",
    "    print(a, 'total: ', total)"
   ]
  },
  {
   "cell_type": "code",
   "execution_count": 24,
   "metadata": {},
   "outputs": [
    {
     "data": {
      "text/plain": [
       "<matplotlib.axes._subplots.AxesSubplot at 0x23c1812b788>"
      ]
     },
     "execution_count": 24,
     "metadata": {},
     "output_type": "execute_result"
    },
    {
     "data": {
      "image/png": "[encoded data removed]",
      "text/plain": [
       "<Figure size 1152x576 with 2 Axes>"
      ]
     },
     "metadata": {
      "needs_background": "light"
     },
     "output_type": "display_data"
    }
   ],
   "source": [
    "pt_df = pd.DataFrame(pronoun_type_counter)\n",
    "plt.figure(figsize=(16, 8))\n",
    "plt.title('Error Annotation by Pronoun and Error Type')\n",
    "sns.heatmap(data=pt_df, annot=True, fmt='g')"
   ]
  },
  {
   "cell_type": "code",
   "execution_count": null,
   "metadata": {},
   "outputs": [],
   "source": []
  }
 ],
 "metadata": {
  "kernelspec": {
   "display_name": "Python 3",
   "language": "python",
   "name": "python3"
  },
  "language_info": {
   "codemirror_mode": {
    "name": "ipython",
    "version": 3
   },
   "file_extension": ".py",
   "mimetype": "text/x-python",
   "name": "python",
   "nbconvert_exporter": "python",
   "pygments_lexer": "ipython3",
   "version": "3.7.7"
  }
 },
 "nbformat": 4,
 "nbformat_minor": 2
}
